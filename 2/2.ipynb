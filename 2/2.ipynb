{
 "cells": [
  {
   "cell_type": "code",
   "execution_count": 57,
   "id": "09d76507",
   "metadata": {},
   "outputs": [
    {
     "name": "stdout",
     "output_type": "stream",
     "text": [
      "(96.63709677419355, 380.2862903225806) (657.383064516129, 268.43145161290323)\n",
      "(489, 730, 3)\n",
      "(493, 734, 3)\n"
     ]
    }
   ],
   "source": [
    "import matplotlib\n",
    "matplotlib.use('TkAgg')\n",
    "import matplotlib.pyplot as plt\n",
    "import matplotlib.image as mpimg\n",
    "import numpy as np\n",
    "from numpy.linalg import norm\n",
    "from math import log\n",
    "\n",
    "img = mpimg.imread('nyc.jpg')\n",
    "imgplot = plt.imshow(img)\n",
    "# plt.show()\n",
    "p1, p2 = plt.ginput(2)\n",
    "plt.close(\"all\")\n",
    "print(p1, p2)\n",
    "p1, p2 = np.array(p1), np.array(p2)\n",
    "# p1, p2 = np.array((210, 0)), np.array((210, 730))\n",
    "\n",
    "kernel = np.array([\n",
    "    [0.125, 0.25, 0.5, 0.25, 0.125],\n",
    "    [0.25, 0.5, 0.75, 0.5, 0.25],\n",
    "    [0.5, 0.75, 1, 0.75, 0.5],\n",
    "    [0.25, 0.5, 0.75, 0.5, 0.25],\n",
    "    [0.125, 0.25, 0.5, 0.25, 0.125]\n",
    "])\n",
    "\n",
    "kx, ky = kernel.shape\n",
    "imgx, imgy = img.shape[:2]\n",
    "\n",
    "blurred = np.zeros_like(img)\n",
    "margx = np.zeros((imgx, 1, 3))\n",
    "ext_img = img.copy()\n",
    "\n",
    "for i in range(kx // 2):\n",
    "    ext_img = np.hstack((margx, ext_img, margx))\n",
    "    \n",
    "margy = np.zeros((1, imgy + kx - 1, 3))\n",
    "\n",
    "for i in range(ky // 2):\n",
    "    ext_img = np.vstack((margy, ext_img, margy))\n",
    "\n",
    "print(img.shape)\n",
    "print(ext_img.shape)\n",
    "margx, margy = kx // 2 , ky // 2 \n",
    "\n",
    "def get_temp_kernel(level):\n",
    "    temp_kernel = kernel.copy()\n",
    "    for i in range(level):\n",
    "        min_ = np.min(kernel)\n",
    "        mins = np.equal(kernel, min_)\n",
    "        mins = mins.astype(int)\n",
    "        mins = mins * min_\n",
    "        temp_kernel += mins\n",
    "    \n",
    "    return temp_kernel\n",
    "        \n",
    "\n",
    "p3 = (0, 0)\n",
    "temp_kernel = get_temp_kernel(int(norm(np.cross(p2-p1, p1-p3))/norm(p2-p1)))\n",
    "    \n",
    "for i in range(margx, imgx + margx):\n",
    "    for j in range(margy, imgy + margy):\n",
    "        p3 = np.array((j - margy, i - margx))\n",
    "        for k in range(3):\n",
    "            intensity = norm(np.cross(p2-p1, p1-p3))/norm(p2-p1)\n",
    "            level = intensity / 10\n",
    "            if level < 4:\n",
    "                blurred[i - margx, j - margy, k] = ext_img[i-margx, j-margy, k]\n",
    "                continue\n",
    "            level -= 4\n",
    "            if level.is_integer():\n",
    "                temp_kernel = get_temp_kernel(int(level))\n",
    "            blurred[i - margx, j - margy, k] = np.sum(ext_img[i-margx:i+margx+1, j-margy:j+margy+1, k] * temp_kernel) // (np.sum(temp_kernel))\n",
    "     \n"
   ]
  },
  {
   "cell_type": "code",
   "execution_count": 58,
   "id": "40036cab",
   "metadata": {},
   "outputs": [],
   "source": [
    "plt.imshow(blurred)\n",
    "plt.show()"
   ]
  },
  {
   "cell_type": "code",
   "execution_count": 61,
   "id": "a316e7b9",
   "metadata": {
    "scrolled": true
   },
   "outputs": [
    {
     "name": "stderr",
     "output_type": "stream",
     "text": [
      "Clipping input data to the valid range for imshow with RGB data ([0..1] for floats or [0..255] for integers).\n",
      "Clipping input data to the valid range for imshow with RGB data ([0..1] for floats or [0..255] for integers).\n"
     ]
    }
   ],
   "source": [
    "sat = matplotlib.colors.rgb_to_hsv(blurred)\n",
    "plt.imshow(sat)\n",
    "plt.show()\n",
    "sat[:,:,1] = np.minimum(2 * sat[:,:,1], np.ones_like(sat[:,:,1]))\n",
    "plt.imshow(sat)\n",
    "plt.show()\n",
    "colored = matplotlib.colors.hsv_to_rgb(sat)\n",
    "colored = colored.astype(int)\n",
    "plt.imshow(colored)\n",
    "plt.show()"
   ]
  },
  {
   "cell_type": "code",
   "execution_count": null,
   "id": "b4366419",
   "metadata": {},
   "outputs": [],
   "source": []
  }
 ],
 "metadata": {
  "kernelspec": {
   "display_name": "Python 3 (ipykernel)",
   "language": "python",
   "name": "python3"
  },
  "language_info": {
   "codemirror_mode": {
    "name": "ipython",
    "version": 3
   },
   "file_extension": ".py",
   "mimetype": "text/x-python",
   "name": "python",
   "nbconvert_exporter": "python",
   "pygments_lexer": "ipython3",
   "version": "3.10.5"
  }
 },
 "nbformat": 4,
 "nbformat_minor": 5
}
